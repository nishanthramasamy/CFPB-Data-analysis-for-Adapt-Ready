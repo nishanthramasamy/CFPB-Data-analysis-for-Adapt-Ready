{
 "cells": [
  {
   "cell_type": "code",
   "execution_count": 9,
   "metadata": {},
   "outputs": [],
   "source": [
    "import pandas as pd\n",
    "import matplotlib.pyplot as plt\n",
    "import seaborn as sns\n"
   ]
  },
  {
   "cell_type": "code",
   "execution_count": 2,
   "metadata": {},
   "outputs": [
    {
     "name": "stderr",
     "output_type": "stream",
     "text": [
      "<>:3: SyntaxWarning: invalid escape sequence '\\m'\n",
      "<>:3: SyntaxWarning: invalid escape sequence '\\m'\n",
      "C:\\Users\\Nishanth\\AppData\\Local\\Temp\\ipykernel_18224\\1149540079.py:3: SyntaxWarning: invalid escape sequence '\\m'\n",
      "  df = pd.read_csv(\"F:\\my_own_projects\\ADAPT READY TASK\\complaints.csv\")\n",
      "C:\\Users\\Nishanth\\AppData\\Local\\Temp\\ipykernel_18224\\1149540079.py:3: DtypeWarning: Columns (16) have mixed types. Specify dtype option on import or set low_memory=False.\n",
      "  df = pd.read_csv(\"F:\\my_own_projects\\ADAPT READY TASK\\complaints.csv\")\n"
     ]
    }
   ],
   "source": [
    "import pandas as pd\n",
    "\n",
    "df = pd.read_csv(\"F:\\my_own_projects\\ADAPT READY TASK\\complaints.csv\")"
   ]
  },
  {
   "cell_type": "code",
   "execution_count": 15,
   "metadata": {},
   "outputs": [
    {
     "name": "stdout",
     "output_type": "stream",
     "text": [
      "Index(['Date received', 'Product', 'Sub-product', 'Issue', 'Sub-issue',\n",
      "       'Consumer complaint narrative', 'Company public response', 'Company',\n",
      "       'State', 'ZIP code', 'Tags', 'Consumer consent provided?',\n",
      "       'Submitted via', 'Date sent to company', 'Company response to consumer',\n",
      "       'Timely response?', 'Consumer disputed?', 'Complaint ID'],\n",
      "      dtype='object')\n"
     ]
    }
   ],
   "source": [
    "print(df.columns)"
   ]
  },
  {
   "cell_type": "code",
   "execution_count": 3,
   "metadata": {},
   "outputs": [
    {
     "data": {
      "text/html": [
       "<div>\n",
       "<style scoped>\n",
       "    .dataframe tbody tr th:only-of-type {\n",
       "        vertical-align: middle;\n",
       "    }\n",
       "\n",
       "    .dataframe tbody tr th {\n",
       "        vertical-align: top;\n",
       "    }\n",
       "\n",
       "    .dataframe thead th {\n",
       "        text-align: right;\n",
       "    }\n",
       "</style>\n",
       "<table border=\"1\" class=\"dataframe\">\n",
       "  <thead>\n",
       "    <tr style=\"text-align: right;\">\n",
       "      <th></th>\n",
       "      <th>Date received</th>\n",
       "      <th>Product</th>\n",
       "      <th>Sub-product</th>\n",
       "      <th>Issue</th>\n",
       "      <th>Sub-issue</th>\n",
       "      <th>Consumer complaint narrative</th>\n",
       "      <th>Company public response</th>\n",
       "      <th>Company</th>\n",
       "      <th>State</th>\n",
       "      <th>ZIP code</th>\n",
       "      <th>Tags</th>\n",
       "      <th>Consumer consent provided?</th>\n",
       "      <th>Submitted via</th>\n",
       "      <th>Date sent to company</th>\n",
       "      <th>Company response to consumer</th>\n",
       "      <th>Timely response?</th>\n",
       "      <th>Consumer disputed?</th>\n",
       "      <th>Complaint ID</th>\n",
       "    </tr>\n",
       "  </thead>\n",
       "  <tbody>\n",
       "    <tr>\n",
       "      <th>0</th>\n",
       "      <td>2024-01-24</td>\n",
       "      <td>Credit reporting or other personal consumer re...</td>\n",
       "      <td>Credit reporting</td>\n",
       "      <td>Incorrect information on your report</td>\n",
       "      <td>Account information incorrect</td>\n",
       "      <td>NaN</td>\n",
       "      <td>Company has responded to the consumer and the ...</td>\n",
       "      <td>TRANSUNION INTERMEDIATE HOLDINGS, INC.</td>\n",
       "      <td>FL</td>\n",
       "      <td>33578</td>\n",
       "      <td>NaN</td>\n",
       "      <td>Consent not provided</td>\n",
       "      <td>Web</td>\n",
       "      <td>2024-01-24</td>\n",
       "      <td>Closed with explanation</td>\n",
       "      <td>Yes</td>\n",
       "      <td>NaN</td>\n",
       "      <td>8205544</td>\n",
       "    </tr>\n",
       "    <tr>\n",
       "      <th>1</th>\n",
       "      <td>2024-02-26</td>\n",
       "      <td>Debt collection</td>\n",
       "      <td>Other debt</td>\n",
       "      <td>Threatened to contact someone or share informa...</td>\n",
       "      <td>Talked to a third-party about your debt</td>\n",
       "      <td>NaN</td>\n",
       "      <td>NaN</td>\n",
       "      <td>Marlette Funding, LLC</td>\n",
       "      <td>IL</td>\n",
       "      <td>60060</td>\n",
       "      <td>NaN</td>\n",
       "      <td>Consent not provided</td>\n",
       "      <td>Web</td>\n",
       "      <td>2024-02-26</td>\n",
       "      <td>Closed with explanation</td>\n",
       "      <td>Yes</td>\n",
       "      <td>NaN</td>\n",
       "      <td>8424268</td>\n",
       "    </tr>\n",
       "    <tr>\n",
       "      <th>2</th>\n",
       "      <td>2024-02-26</td>\n",
       "      <td>Credit reporting or other personal consumer re...</td>\n",
       "      <td>Credit reporting</td>\n",
       "      <td>Incorrect information on your report</td>\n",
       "      <td>Information belongs to someone else</td>\n",
       "      <td>NaN</td>\n",
       "      <td>Company believes it acted appropriately as aut...</td>\n",
       "      <td>CCS Financial Services, Inc.</td>\n",
       "      <td>NC</td>\n",
       "      <td>27536</td>\n",
       "      <td>NaN</td>\n",
       "      <td>Consent not provided</td>\n",
       "      <td>Web</td>\n",
       "      <td>2024-02-26</td>\n",
       "      <td>Closed with non-monetary relief</td>\n",
       "      <td>Yes</td>\n",
       "      <td>NaN</td>\n",
       "      <td>8423775</td>\n",
       "    </tr>\n",
       "    <tr>\n",
       "      <th>3</th>\n",
       "      <td>2024-02-20</td>\n",
       "      <td>Credit reporting or other personal consumer re...</td>\n",
       "      <td>Credit reporting</td>\n",
       "      <td>Improper use of your report</td>\n",
       "      <td>Reporting company used your report improperly</td>\n",
       "      <td>I am disappointed to have received a credit re...</td>\n",
       "      <td>NaN</td>\n",
       "      <td>LEXISNEXIS</td>\n",
       "      <td>CA</td>\n",
       "      <td>94124</td>\n",
       "      <td>NaN</td>\n",
       "      <td>Consent provided</td>\n",
       "      <td>Web</td>\n",
       "      <td>2024-02-20</td>\n",
       "      <td>Closed with explanation</td>\n",
       "      <td>Yes</td>\n",
       "      <td>NaN</td>\n",
       "      <td>8379830</td>\n",
       "    </tr>\n",
       "    <tr>\n",
       "      <th>4</th>\n",
       "      <td>2024-01-26</td>\n",
       "      <td>Credit reporting or other personal consumer re...</td>\n",
       "      <td>Credit reporting</td>\n",
       "      <td>Incorrect information on your report</td>\n",
       "      <td>Information belongs to someone else</td>\n",
       "      <td>The companies, along with the credit reporting...</td>\n",
       "      <td>NaN</td>\n",
       "      <td>EQUIFAX, INC.</td>\n",
       "      <td>NC</td>\n",
       "      <td>28804</td>\n",
       "      <td>NaN</td>\n",
       "      <td>Consent provided</td>\n",
       "      <td>Web</td>\n",
       "      <td>2024-01-26</td>\n",
       "      <td>Closed with non-monetary relief</td>\n",
       "      <td>Yes</td>\n",
       "      <td>NaN</td>\n",
       "      <td>8232435</td>\n",
       "    </tr>\n",
       "  </tbody>\n",
       "</table>\n",
       "</div>"
      ],
      "text/plain": [
       "  Date received                                            Product  \\\n",
       "0    2024-01-24  Credit reporting or other personal consumer re...   \n",
       "1    2024-02-26                                    Debt collection   \n",
       "2    2024-02-26  Credit reporting or other personal consumer re...   \n",
       "3    2024-02-20  Credit reporting or other personal consumer re...   \n",
       "4    2024-01-26  Credit reporting or other personal consumer re...   \n",
       "\n",
       "        Sub-product                                              Issue  \\\n",
       "0  Credit reporting               Incorrect information on your report   \n",
       "1        Other debt  Threatened to contact someone or share informa...   \n",
       "2  Credit reporting               Incorrect information on your report   \n",
       "3  Credit reporting                        Improper use of your report   \n",
       "4  Credit reporting               Incorrect information on your report   \n",
       "\n",
       "                                       Sub-issue  \\\n",
       "0                  Account information incorrect   \n",
       "1        Talked to a third-party about your debt   \n",
       "2            Information belongs to someone else   \n",
       "3  Reporting company used your report improperly   \n",
       "4            Information belongs to someone else   \n",
       "\n",
       "                        Consumer complaint narrative  \\\n",
       "0                                                NaN   \n",
       "1                                                NaN   \n",
       "2                                                NaN   \n",
       "3  I am disappointed to have received a credit re...   \n",
       "4  The companies, along with the credit reporting...   \n",
       "\n",
       "                             Company public response  \\\n",
       "0  Company has responded to the consumer and the ...   \n",
       "1                                                NaN   \n",
       "2  Company believes it acted appropriately as aut...   \n",
       "3                                                NaN   \n",
       "4                                                NaN   \n",
       "\n",
       "                                  Company State ZIP code Tags  \\\n",
       "0  TRANSUNION INTERMEDIATE HOLDINGS, INC.    FL    33578  NaN   \n",
       "1                   Marlette Funding, LLC    IL    60060  NaN   \n",
       "2            CCS Financial Services, Inc.    NC    27536  NaN   \n",
       "3                              LEXISNEXIS    CA    94124  NaN   \n",
       "4                           EQUIFAX, INC.    NC    28804  NaN   \n",
       "\n",
       "  Consumer consent provided? Submitted via Date sent to company  \\\n",
       "0       Consent not provided           Web           2024-01-24   \n",
       "1       Consent not provided           Web           2024-02-26   \n",
       "2       Consent not provided           Web           2024-02-26   \n",
       "3           Consent provided           Web           2024-02-20   \n",
       "4           Consent provided           Web           2024-01-26   \n",
       "\n",
       "      Company response to consumer Timely response? Consumer disputed?  \\\n",
       "0          Closed with explanation              Yes                NaN   \n",
       "1          Closed with explanation              Yes                NaN   \n",
       "2  Closed with non-monetary relief              Yes                NaN   \n",
       "3          Closed with explanation              Yes                NaN   \n",
       "4  Closed with non-monetary relief              Yes                NaN   \n",
       "\n",
       "   Complaint ID  \n",
       "0       8205544  \n",
       "1       8424268  \n",
       "2       8423775  \n",
       "3       8379830  \n",
       "4       8232435  "
      ]
     },
     "execution_count": 3,
     "metadata": {},
     "output_type": "execute_result"
    }
   ],
   "source": [
    "df.head()\n"
   ]
  },
  {
   "cell_type": "code",
   "execution_count": 14,
   "metadata": {},
   "outputs": [
    {
     "data": {
      "text/plain": [
       "array(['Credit reporting or other personal consumer reports',\n",
       "       'Debt collection',\n",
       "       'Money transfer, virtual currency, or money service',\n",
       "       'Credit card', 'Checking or savings account', 'Student loan',\n",
       "       'Payday loan, title loan, personal loan, or advance loan',\n",
       "       'Vehicle loan or lease', 'Prepaid card', 'Mortgage',\n",
       "       'Credit reporting, credit repair services, or other personal consumer reports',\n",
       "       'Debt or credit management', 'Credit card or prepaid card',\n",
       "       'Payday loan, title loan, or personal loan', 'Money transfers',\n",
       "       'Credit reporting', 'Bank account or service', 'Consumer Loan',\n",
       "       'Payday loan', 'Other financial service', 'Virtual currency'],\n",
       "      dtype=object)"
      ]
     },
     "execution_count": 14,
     "metadata": {},
     "output_type": "execute_result"
    }
   ],
   "source": [
    "df['Product'].unique()"
   ]
  },
  {
   "cell_type": "code",
   "execution_count": 16,
   "metadata": {},
   "outputs": [
    {
     "name": "stdout",
     "output_type": "stream",
     "text": [
      "['FL' 'IL' 'NC' 'CA' 'MI' 'NJ' 'VA' 'GA' 'MS' 'TX' 'NY' 'PA' 'TN' 'IN'\n",
      " 'MD' 'LA' 'VI' 'AL' 'UT' 'DC' 'AZ' 'SC' 'DE' 'MA' 'OK' 'OH' 'PR' 'OR'\n",
      " 'MO' 'KS' 'AR' 'NE' 'WA' 'KY' 'NH' 'RI' 'MN' 'HI' 'ID' nan 'WI' 'CO' 'CT'\n",
      " 'IA' 'NV' 'SD' 'NM' 'ME' 'AK' 'ND' 'AP' 'WV' 'AE' 'WY' 'MT' 'VT'\n",
      " 'UNITED STATES MINOR OUTLYING ISLANDS' 'GU' 'AS' 'FM' 'MP' 'AA' 'MH' 'PW']\n"
     ]
    },
    {
     "name": "stderr",
     "output_type": "stream",
     "text": [
      "C:\\Users\\Nishanth\\AppData\\Local\\Temp\\ipykernel_18224\\4010208920.py:6: FutureWarning: \n",
      "\n",
      "Passing `palette` without assigning `hue` is deprecated and will be removed in v0.14.0. Assign the `x` variable to `hue` and set `legend=False` for the same effect.\n",
      "\n",
      "  sns.barplot(x='State', y='Count', data=state_count, palette='viridis')\n"
     ]
    },
    {
     "data": {
      "image/png": "[encoded data removed]",
      "text/plain": [
       "<Figure size 1000x600 with 1 Axes>"
      ]
     },
     "metadata": {},
     "output_type": "display_data"
    }
   ],
   "source": [
    "#statewise analysis:\n",
    "print(df['State'].unique())\n",
    "state_count = df['State'].value_counts().reset_index()\n",
    "state_count.columns = ['State', 'Count']\n",
    "plt.figure(figsize=(10,6))\n",
    "sns.barplot(x='State', y='Count', data=state_count, palette='viridis')\n",
    "plt.xlabel('State')\n",
    "plt.ylabel('Count')\n",
    "plt.xticks(rotation=90)\n",
    "plt.title('Complaints received')\n",
    "plt.show()"
   ]
  },
  {
   "cell_type": "code",
   "execution_count": 28,
   "metadata": {},
   "outputs": [
    {
     "data": {
      "image/png": "[encoded data removed]",
      "text/plain": [
       "<Figure size 1000x600 with 1 Axes>"
      ]
     },
     "metadata": {},
     "output_type": "display_data"
    }
   ],
   "source": [
    "df['Date received'] = pd.to_datetime(df['Date received'])\n",
    "df['Year'] = df['Date received'].dt.year\n",
    "complaints_by_year = df.groupby('Year').size()\n",
    "\n",
    "plt.figure(figsize=(10, 6))\n",
    "complaints_by_year.plot(kind='bar', color='skyblue')\n",
    "plt.title('Number of Complaints by Year')\n",
    "plt.xlabel('Year')\n",
    "plt.ylabel('Number of Complaints')\n",
    "plt.xticks(rotation=45)\n",
    "plt.grid(axis='y', linestyle='--', alpha=0.7)\n",
    "plt.tight_layout()\n",
    "plt.show()\n"
   ]
  },
  {
   "cell_type": "code",
   "execution_count": 33,
   "metadata": {},
   "outputs": [
    {
     "name": "stdout",
     "output_type": "stream",
     "text": [
      "   State             Response Time\n",
      "3     AL 0 days 18:51:41.613559322\n",
      "24    LA 0 days 20:39:13.189246178\n",
      "33    MS 0 days 21:54:12.097832571\n",
      "46    PA 0 days 22:28:29.755629504\n",
      "53    TX 0 days 23:54:08.675880355\n"
     ]
    }
   ],
   "source": [
    "df['Date received'] = pd.to_datetime(df['Date received'])\n",
    "df['Date sent to company'] = pd.to_datetime(df['Date sent to company'])\n",
    "df['Response Time'] = df['Date sent to company'] - df['Date received']\n",
    "avg_response_time_by_state = df.groupby('State')['Response Time'].mean()\n",
    "response_time_df = avg_response_time_by_state.reset_index()\n",
    "print(response_time_df.sort_values(by='Response Time', ascending = True).head())"
   ]
  },
  {
   "cell_type": "code",
   "execution_count": 47,
   "metadata": {},
   "outputs": [
    {
     "name": "stdout",
     "output_type": "stream",
     "text": [
      "     State                                 Issue  Count\n",
      "9       AA  Incorrect information on your report     10\n",
      "65      AE           Improper use of your report    227\n",
      "184     AK  Incorrect information on your report    907\n",
      "326     AL  Incorrect information on your report  41989\n",
      "455     AP  Incorrect information on your report     93\n",
      "...    ...                                   ...    ...\n",
      "7969    VT  Incorrect information on your report    374\n",
      "8115    WA  Incorrect information on your report  10320\n",
      "8277    WI  Incorrect information on your report   8351\n",
      "8424    WV  Incorrect information on your report   1571\n",
      "8553    WY           Improper use of your report    443\n",
      "\n",
      "[63 rows x 3 columns]\n"
     ]
    }
   ],
   "source": [
    "top_issues_by_state = df.groupby(['State', 'Issue']).size().reset_index(name='Count')\n",
    "top_issues_by_state = top_issues_by_state.loc[top_issues_by_state.groupby('State')['Count'].idxmax()]\n",
    "\n",
    "\n",
    "top_issues_by_state['State'] = pd.Categorical(top_issues_by_state['State'], categories=top_issues_by_state['State'].unique(), ordered=True)\n",
    "top_issues_by_state_sorted = top_issues_by_state.sort_values(by='State')\n",
    "\n",
    "print(top_issues_by_state_sorted)"
   ]
  },
  {
   "cell_type": "code",
   "execution_count": 52,
   "metadata": {},
   "outputs": [
    {
     "name": "stdout",
     "output_type": "stream",
     "text": [
      "Product\n",
      "Credit reporting, credit repair services, or other personal consumer reports    2163878\n",
      "Credit reporting or other personal consumer reports                              959581\n",
      "Debt collection                                                                  567007\n",
      "Mortgage                                                                         397811\n",
      "Checking or savings account                                                      212459\n",
      "Credit card or prepaid card                                                      206373\n",
      "Credit reporting                                                                 140429\n",
      "Credit card                                                                      132976\n",
      "Student loan                                                                      88116\n",
      "Bank account or service                                                           86205\n",
      "Money transfer, virtual currency, or money service                                68346\n",
      "Vehicle loan or lease                                                             55626\n",
      "Consumer Loan                                                                     31574\n",
      "Payday loan, title loan, or personal loan                                         30640\n",
      "Prepaid card                                                                       8333\n",
      "Payday loan                                                                        5541\n",
      "Payday loan, title loan, personal loan, or advance loan                            5376\n",
      "Money transfers                                                                    5354\n",
      "Debt or credit management                                                          1081\n",
      "Other financial service                                                            1058\n",
      "Virtual currency                                                                     18\n",
      "Name: count, dtype: int64\n",
      "                                                      Count\n",
      "Product                                                    \n",
      "Credit reporting, credit repair services, or ot...  2163878\n",
      "Credit reporting or other personal consumer rep...   959581\n",
      "Debt collection                                      567007\n",
      "Mortgage                                             397811\n",
      "Checking or savings account                          212459\n",
      "Credit card or prepaid card                          206373\n",
      "Credit reporting                                     140429\n",
      "Credit card                                          132976\n",
      "Student loan                                          88116\n",
      "Bank account or service                               86205\n",
      "Money transfer, virtual currency, or money service    68346\n",
      "Vehicle loan or lease                                 55626\n",
      "Consumer Loan                                         31574\n",
      "Payday loan, title loan, or personal loan             30640\n",
      "Prepaid card                                           8333\n",
      "Payday loan                                            5541\n",
      "Payday loan, title loan, personal loan, or adva...     5376\n",
      "Money transfers                                        5354\n",
      "Debt or credit management                              1081\n",
      "Other financial service                                1058\n",
      "Virtual currency                                         18\n"
     ]
    }
   ],
   "source": [
    "print(df['Product'].value_counts())\n",
    "\n",
    "product_counts = df['Product'].value_counts()\n",
    "\n",
    "product_counts_df = pd.DataFrame(product_counts)\n",
    "product_counts_df.columns = ['Count']\n",
    "\n",
    "print(product_counts_df)"
   ]
  },
  {
   "cell_type": "code",
   "execution_count": 49,
   "metadata": {},
   "outputs": [
    {
     "name": "stdout",
     "output_type": "stream",
     "text": [
      "Issue\n",
      "Incorrect information on your report                                                1504940\n",
      "Improper use of your report                                                          799797\n",
      "Problem with a credit reporting company's investigation into an existing problem     589336\n",
      "Attempts to collect debt not owed                                                    211699\n",
      "Problem with a company's investigation into an existing problem                      204610\n",
      "                                                                                     ...   \n",
      "Lender damaged or destroyed vehicle                                                       8\n",
      "Property was damaged or destroyed property                                                7\n",
      "Lender sold the property                                                                  7\n",
      "Lender damaged or destroyed property                                                      3\n",
      "Lost or stolen refund                                                                     2\n",
      "Name: count, Length: 178, dtype: int64\n",
      "Sub-issue\n",
      "Information belongs to someone else                                                 997464\n",
      "Reporting company used your report improperly                                       523894\n",
      "Their investigation did not fix an error on your report                             455688\n",
      "Credit inquiries on your report that you don't recognize                            271091\n",
      "Account information incorrect                                                       181711\n",
      "                                                                                     ...  \n",
      "Issues with financial aid services                                                       5\n",
      "Problem with a credit reporting company's investigation into an existing problem         5\n",
      "Credit monitoring or identity theft protection services                                  1\n",
      "Problem with fraud alerts or security freezes                                            1\n",
      "Improper use of your report                                                              1\n",
      "Name: count, Length: 272, dtype: int64\n"
     ]
    }
   ],
   "source": [
    "print(df['Issue'].value_counts())\n",
    "print(df['Sub-issue'].value_counts())"
   ]
  },
  {
   "cell_type": "code",
   "execution_count": 53,
   "metadata": {},
   "outputs": [
    {
     "name": "stdout",
     "output_type": "stream",
     "text": [
      "Submitted via\n",
      "Web             4617033\n",
      "Referral         248302\n",
      "Phone            180479\n",
      "Postal mail       94644\n",
      "Fax               25658\n",
      "Web Referral       1241\n",
      "Email               425\n",
      "Name: count, dtype: int64\n"
     ]
    }
   ],
   "source": [
    "#Ease of complaint submission\n",
    "print(df['Submitted via'].value_counts())"
   ]
  },
  {
   "cell_type": "code",
   "execution_count": 62,
   "metadata": {},
   "outputs": [
    {
     "name": "stdout",
     "output_type": "stream",
     "text": [
      "Consumer disputed?\n",
      "No     619938\n",
      "Yes    148378\n",
      "Name: count, dtype: int64\n"
     ]
    }
   ],
   "source": [
    "print(df['Consumer disputed?'].value_counts())"
   ]
  },
  {
   "cell_type": "code",
   "execution_count": 64,
   "metadata": {},
   "outputs": [
    {
     "name": "stdout",
     "output_type": "stream",
     "text": [
      "Company response to consumer\n",
      "Closed with explanation            3445821\n",
      "Closed with non-monetary relief    1297585\n",
      "In progress                         218783\n",
      "Closed with monetary relief         153316\n",
      "Closed without relief                17868\n",
      "Closed                               17611\n",
      "Untimely response                    11480\n",
      "Closed with relief                    5304\n",
      "Name: count, dtype: int64\n"
     ]
    }
   ],
   "source": [
    "print(df['Company response to consumer'].value_counts())"
   ]
  },
  {
   "cell_type": "code",
   "execution_count": 65,
   "metadata": {},
   "outputs": [
    {
     "name": "stdout",
     "output_type": "stream",
     "text": [
      "Company response to consumer\n",
      "Closed with explanation            122695\n",
      "Closed with non-monetary relief     11098\n",
      "Closed with monetary relief          5439\n",
      "Closed without relief                4811\n",
      "Closed                               3625\n",
      "Closed with relief                    708\n",
      "Untimely response                       2\n",
      "Name: count, dtype: int64\n"
     ]
    }
   ],
   "source": [
    "df_with_consumer_disputes = (df[df['Consumer disputed?'] == 'Yes'])\n",
    "consumer_disputes = df_with_consumer_disputes[['Company response to consumer', 'Consumer disputed?']]\n",
    "print(consumer_disputes['Company response to consumer'].value_counts())"
   ]
  },
  {
   "cell_type": "code",
   "execution_count": 61,
   "metadata": {},
   "outputs": [
    {
     "name": "stdout",
     "output_type": "stream",
     "text": [
      "Company\n",
      "EQUIFAX, INC.                             1075067\n",
      "TRANSUNION INTERMEDIATE HOLDINGS, INC.     994517\n",
      "Experian Information Solutions Inc.        904819\n",
      "BANK OF AMERICA, NATIONAL ASSOCIATION      140335\n",
      "WELLS FARGO & COMPANY                      128430\n",
      "Name: count, dtype: int64\n",
      "Company\n",
      "EQUIFAX, INC.                             1073291\n",
      "TRANSUNION INTERMEDIATE HOLDINGS, INC.     994191\n",
      "Experian Information Solutions Inc.        904767\n",
      "BANK OF AMERICA, NATIONAL ASSOCIATION      136263\n",
      "WELLS FARGO & COMPANY                      124621\n",
      "                                           ...   \n",
      "Loanatik, L.L.C.                                1\n",
      "Signature Finance Company                       1\n",
      "E & C Finace Company Inc                        1\n",
      "THOMPSON KANE & COMPANY, LLC                    1\n",
      "FHC Mortgage                                    1\n",
      "Name: count, Length: 6624, dtype: int64\n"
     ]
    }
   ],
   "source": [
    "#Companies and their response\n",
    "print(df['Company'].value_counts().head())\n",
    "\n",
    "df_with_positive_response = (df[df['Timely response?'] == 'Yes'])\n",
    "top_companies_responded = df_with_positive_response[['Company', 'Timely response?']]\n",
    "print(top_companies_responded['Company'].value_counts())"
   ]
  },
  {
   "cell_type": "code",
   "execution_count": 63,
   "metadata": {},
   "outputs": [
    {
     "name": "stdout",
     "output_type": "stream",
     "text": [
      "Company\n",
      "EQUIFAX, INC.                             1075067\n",
      "TRANSUNION INTERMEDIATE HOLDINGS, INC.     994517\n",
      "Experian Information Solutions Inc.        904819\n",
      "BANK OF AMERICA, NATIONAL ASSOCIATION      140335\n",
      "WELLS FARGO & COMPANY                      128430\n",
      "Name: count, dtype: int64\n",
      "Company\n",
      "EQUIFAX, INC.                             1073291\n",
      "TRANSUNION INTERMEDIATE HOLDINGS, INC.     994191\n",
      "Experian Information Solutions Inc.        904767\n",
      "BANK OF AMERICA, NATIONAL ASSOCIATION      136263\n",
      "WELLS FARGO & COMPANY                      124621\n",
      "Name: count, dtype: int64\n"
     ]
    }
   ],
   "source": [
    "print(df['Company'].value_counts().head())\n",
    "print (top_companies_responded['Company'].value_counts().head())\n",
    "\n"
   ]
  },
  {
   "cell_type": "code",
   "execution_count": 18,
   "metadata": {},
   "outputs": [
    {
     "data": {
      "text/plain": [
       "Date received                         0\n",
       "Product                               0\n",
       "Sub-product                      235292\n",
       "Issue                                 2\n",
       "Sub-issue                        735101\n",
       "Consumer complaint narrative    3351574\n",
       "Company public response         2693192\n",
       "Company                               0\n",
       "State                             45611\n",
       "ZIP code                          30225\n",
       "Tags                            4684932\n",
       "Consumer consent provided?      1026812\n",
       "Submitted via                         0\n",
       "Date sent to company                  0\n",
       "Company response to consumer         14\n",
       "Timely response?                      0\n",
       "Consumer disputed?              4399466\n",
       "Complaint ID                          0\n",
       "dtype: int64"
      ]
     },
     "execution_count": 18,
     "metadata": {},
     "output_type": "execute_result"
    }
   ],
   "source": [
    "df.isnull().sum()"
   ]
  },
  {
   "cell_type": "code",
   "execution_count": 66,
   "metadata": {},
   "outputs": [
    {
     "name": "stdout",
     "output_type": "stream",
     "text": [
      "Tags\n",
      "Servicemember                    284393\n",
      "Older American                   159127\n",
      "Older American, Servicemember     39330\n",
      "Name: count, dtype: int64\n"
     ]
    }
   ],
   "source": [
    "print(df['Tags'].value_counts())"
   ]
  },
  {
   "cell_type": "code",
   "execution_count": null,
   "metadata": {},
   "outputs": [
    {
     "name": "stdout",
     "output_type": "stream",
     "text": [
      "Percentage of people whoe provided consent = 80.13\n"
     ]
    }
   ],
   "source": [
    "#Consumer consent provided - Consent is a crucial aspect to share the data and extract new insights\n",
    "consent_percentage = (df['Consumer consent provided?'].count()/len(df)) * 100\n",
    "print(f\"Percentage of people whoe provided consent = {consent_percentage:.2f}\")\n"
   ]
  },
  {
   "cell_type": "code",
   "execution_count": 70,
   "metadata": {},
   "outputs": [
    {
     "name": "stdout",
     "output_type": "stream",
     "text": [
      "3\n"
     ]
    }
   ],
   "source": [
    "#Question 2:::::\n",
    "\n",
    "a = list(map(int,input().split()))\n",
    "\n",
    "temp = 1\n",
    "start = 0\n",
    "end = len(a)\n",
    "result = []\n",
    "\n",
    "try:\n",
    "    for i in range(start, end):\n",
    "        if a[i+1] > a[i]:\n",
    "            temp+=1\n",
    "        else:\n",
    "            result.append(temp)\n",
    "            temp = 1\n",
    "            start = i+2\n",
    "except:\n",
    "    pass\n",
    "\n",
    "print(max(result))"
   ]
  },
  {
   "cell_type": "markdown",
   "metadata": {},
   "source": [
    "Output for the above code:\n",
    "Input: 1 3 5 4 7\n",
    "Output: 3"
   ]
  },
  {
   "cell_type": "code",
   "execution_count": 77,
   "metadata": {},
   "outputs": [
    {
     "name": "stdout",
     "output_type": "stream",
     "text": [
      "210\n"
     ]
    }
   ],
   "source": [
    "#Question 3::::\n",
    "\n",
    "def Number():\n",
    "\n",
    "    str_nums = input().split()\n",
    "\n",
    "\n",
    "    def compare(a, b):\n",
    "        ab = a + b\n",
    "        ba = b + a\n",
    "        for i in range(len(ab)):\n",
    "            if ab[i] > ba[i]:\n",
    "                return -1\n",
    "            elif ab[i] < ba[i]:\n",
    "                return 1\n",
    "        return 0\n",
    "\n",
    "    def custom_sort(nums):\n",
    "        for i in range(len(nums)):\n",
    "            for j in range(i + 1, len(nums)):\n",
    "                if compare(nums[i], nums[j]) > 0:\n",
    "                    nums[i], nums[j] = nums[j], nums[i]\n",
    "        return nums\n",
    "\n",
    "    sorted_nums = custom_sort(str_nums)\n",
    "    largest_num = ''.join(sorted_nums)\n",
    "\n",
    "    \n",
    "    if largest_num[0] == '0':\n",
    "        largest_num = '0'\n",
    "\n",
    "    return largest_num\n",
    "\n",
    "\n",
    "print(Number())"
   ]
  },
  {
   "cell_type": "code",
   "execution_count": 83,
   "metadata": {},
   "outputs": [
    {
     "name": "stderr",
     "output_type": "stream",
     "text": [
      "<>:5: SyntaxWarning: invalid escape sequence '\\m'\n",
      "<>:5: SyntaxWarning: invalid escape sequence '\\m'\n",
      "C:\\Users\\Nishanth\\AppData\\Local\\Temp\\ipykernel_18224\\1647308034.py:5: SyntaxWarning: invalid escape sequence '\\m'\n",
      "  with open(\"F:\\my_own_projects\\ADAPT READY TASK\\DT A1 sample_json (1) (1).json\", 'r') as f:\n"
     ]
    }
   ],
   "source": [
    "#question 4::::\n",
    "\n",
    "import pandas as pd\n",
    "\n",
    "with open(\"F:\\my_own_projects\\ADAPT READY TASK\\DT A1 sample_json (1) (1).json\", 'r') as f:\n",
    "    data = pd.read_json(f)\n",
    "\n",
    "servlets = []\n",
    "for servlet in data['web-app']['servlet']:\n",
    "    servlets.append({\n",
    "        'servlet-name': servlet['servlet-name'],\n",
    "        'servlet-class': servlet['servlet-class']\n",
    "    })\n",
    "\n",
    "df_new = pd.DataFrame(servlets)\n",
    "\n",
    "\n",
    "df_new.to_csv('servlets.csv', index=False)"
   ]
  }
 ],
 "metadata": {
  "kernelspec": {
   "display_name": "Python 3",
   "language": "python",
   "name": "python3"
  },
  "language_info": {
   "codemirror_mode": {
    "name": "ipython",
    "version": 3
   },
   "file_extension": ".py",
   "mimetype": "text/x-python",
   "name": "python",
   "nbconvert_exporter": "python",
   "pygments_lexer": "ipython3",
   "version": "3.12.0"
  }
 },
 "nbformat": 4,
 "nbformat_minor": 2
}
